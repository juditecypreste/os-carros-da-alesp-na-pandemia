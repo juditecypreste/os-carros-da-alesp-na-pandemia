{
 "cells": [
  {
   "cell_type": "code",
   "execution_count": null,
   "metadata": {},
   "outputs": [],
   "source": [
    "# Importação de bibliotecas e módulos\n",
    "from xml.etree import ElementTree\n",
    "import csv"
   ]
  },
  {
   "cell_type": "code",
   "execution_count": null,
   "metadata": {},
   "outputs": [],
   "source": [
    "# Abre um arquivo XML\n",
    "caminho = \"despesas_gabinetes.xml"
   ]
  },
  {
   "cell_type": "code",
   "execution_count": null,
   "metadata": {},
   "outputs": [],
   "source": [
    "with open(caminho, 'r', encoding=\"latin-1\") as arquivo:\n",
    "    tree = ElementTree.parse(arquivo)\n",
    "\n",
    "# Criando uma lista para armazenar as despesas\n",
    "    despesas = []\n",
    "\n",
    "# Iterando todas os itens <despesa> no arquivo.\n",
    "    for d in tree.findall(\".//despesa\"):\n",
    "        despesa = {} # Cria um dicionario para armazenar os dados\n",
    "        for item in d.iter(): # Itera entre todos os itens dentro de uma <despesa>\n",
    "            despesa[item.tag] = item.text # Cria uma entrada no dicionario\n",
    "        \n",
    "        despesas.append(despesa) # Adiciona o item ao dicionario"
   ]
  },
  {
   "cell_type": "code",
   "execution_count": null,
   "metadata": {},
   "outputs": [],
   "source": [
    "# Abre um arquivo para gravar os resultados\n",
    "\n",
    "caminho_arquivo_final = \"despesas_gabinetes.csv\"\n",
    "with open(caminho_arquivo_final, 'w', encoding=\"latin-1\") as final:\n",
    "    f = csv.DictWriter(final, fieldnames=despesas[0].keys()) # Cria o objeto DictWriter e passa os campos da primeira linha como cabeçalho\n",
    "    f.writeheader() # Escreve o cabeçalho\n",
    "    f.writerows(despesas) #e  Escreve todos os itens da lista"
   ]
  }
 ],
 "metadata": {
  "kernelspec": {
   "display_name": "Python 3",
   "language": "python",
   "name": "python3"
  },
  "language_info": {
   "codemirror_mode": {
    "name": "ipython",
    "version": 3
   },
   "file_extension": ".py",
   "mimetype": "text/x-python",
   "name": "python",
   "nbconvert_exporter": "python",
   "pygments_lexer": "ipython3",
   "version": "3.8.5"
  }
 },
 "nbformat": 4,
 "nbformat_minor": 4
}
